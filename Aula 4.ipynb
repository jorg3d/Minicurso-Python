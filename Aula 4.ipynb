{
 "cells": [
  {
   "cell_type": "markdown",
   "metadata": {},
   "source": [
    "Fundamentação Teórica\n",
    "\n",
    "Uma rede neural artificial multicamadas perceptron é um modelo flexível que consiste de um conjunto de camadas de neurônios interligados mapeando os neurônios da camada de entrada em uma camada de neurônios na saída. (GARDNER & DORLING, 1998)\n",
    "\n",
    "Dessa forma, esse modelo tem a capacidade de aprendizado através de treinos supervisionados. Sendo assim, os dados de treino são repetidamente aplicados no modelo, de forma que sejam gerados valores para as funções de ativação dos neurônios até que seja alcançado um valor significativo para o modelo. (GARDNER & DORLING, 1998)\n",
    "\n",
    "Sendo assim, uma rede neural artificial multicamadas perceptron se divide em 3 tipos de camada, a camada de entrada, a intermediária ou oculta e, por fim, a camada de saída como podemos ver na imagem abaixo.\n"
   ]
  },
  {
   "cell_type": "markdown",
   "metadata": {},
   "source": [
    "   Com base na teoria vista, vamos implementar um algoritmo com o mesmo propósito da aula anterior, porém agora utilizando de uma Rede Neural Artificial Multicamadas Perceptron (RNA - MCP). Dessa forma, podemos realizar uma análise de eficiência em relação ao outro algoritmo para a mesma finalidade, com os mesmos dados de base.\n"
   ]
  },
  {
   "cell_type": "markdown",
   "metadata": {},
   "source": [
    "Importando as bibliotecas:\n",
    "\n",
    "As bibliotecas serão basicamente as mesmas, exceto pelo algoritmo classificador, que agora será a RNA MCP disponibilizada também pelo Scikit Learn. "
   ]
  },
  {
   "cell_type": "code",
   "execution_count": 1,
   "metadata": {},
   "outputs": [],
   "source": [
    "import pandas as pd\n",
    "import numpy as np\n",
    "import sklearn\n",
    "from sklearn.neural_network import MLPClassifier\n",
    "from sklearn.neural_network import MLPRegressor\n",
    "\n",
    "from sklearn.model_selection import train_test_split\n",
    "from sklearn import metrics\n",
    "from sklearn.metrics import classification_report, confusion_matrix"
   ]
  },
  {
   "cell_type": "markdown",
   "metadata": {},
   "source": [
    "Abrindo o arquivo e criando o dataframe"
   ]
  },
  {
   "cell_type": "code",
   "execution_count": 2,
   "metadata": {},
   "outputs": [
    {
     "data": {
      "text/html": [
       "<div>\n",
       "<style scoped>\n",
       "    .dataframe tbody tr th:only-of-type {\n",
       "        vertical-align: middle;\n",
       "    }\n",
       "\n",
       "    .dataframe tbody tr th {\n",
       "        vertical-align: top;\n",
       "    }\n",
       "\n",
       "    .dataframe thead th {\n",
       "        text-align: right;\n",
       "    }\n",
       "</style>\n",
       "<table border=\"1\" class=\"dataframe\">\n",
       "  <thead>\n",
       "    <tr style=\"text-align: right;\">\n",
       "      <th></th>\n",
       "      <th>Pregnancies</th>\n",
       "      <th>Glucose</th>\n",
       "      <th>BloodPressure</th>\n",
       "      <th>SkinThickness</th>\n",
       "      <th>Insulin</th>\n",
       "      <th>BMI</th>\n",
       "      <th>DiabetesPedigreeFunction</th>\n",
       "      <th>Age</th>\n",
       "      <th>Outcome</th>\n",
       "    </tr>\n",
       "  </thead>\n",
       "  <tbody>\n",
       "    <tr>\n",
       "      <td>0</td>\n",
       "      <td>6</td>\n",
       "      <td>148</td>\n",
       "      <td>72</td>\n",
       "      <td>35</td>\n",
       "      <td>0</td>\n",
       "      <td>33.6</td>\n",
       "      <td>0.627</td>\n",
       "      <td>50</td>\n",
       "      <td>1</td>\n",
       "    </tr>\n",
       "    <tr>\n",
       "      <td>1</td>\n",
       "      <td>1</td>\n",
       "      <td>85</td>\n",
       "      <td>66</td>\n",
       "      <td>29</td>\n",
       "      <td>0</td>\n",
       "      <td>26.6</td>\n",
       "      <td>0.351</td>\n",
       "      <td>31</td>\n",
       "      <td>0</td>\n",
       "    </tr>\n",
       "    <tr>\n",
       "      <td>2</td>\n",
       "      <td>8</td>\n",
       "      <td>183</td>\n",
       "      <td>64</td>\n",
       "      <td>0</td>\n",
       "      <td>0</td>\n",
       "      <td>23.3</td>\n",
       "      <td>0.672</td>\n",
       "      <td>32</td>\n",
       "      <td>1</td>\n",
       "    </tr>\n",
       "    <tr>\n",
       "      <td>3</td>\n",
       "      <td>1</td>\n",
       "      <td>89</td>\n",
       "      <td>66</td>\n",
       "      <td>23</td>\n",
       "      <td>94</td>\n",
       "      <td>28.1</td>\n",
       "      <td>0.167</td>\n",
       "      <td>21</td>\n",
       "      <td>0</td>\n",
       "    </tr>\n",
       "    <tr>\n",
       "      <td>4</td>\n",
       "      <td>0</td>\n",
       "      <td>137</td>\n",
       "      <td>40</td>\n",
       "      <td>35</td>\n",
       "      <td>168</td>\n",
       "      <td>43.1</td>\n",
       "      <td>2.288</td>\n",
       "      <td>33</td>\n",
       "      <td>1</td>\n",
       "    </tr>\n",
       "  </tbody>\n",
       "</table>\n",
       "</div>"
      ],
      "text/plain": [
       "   Pregnancies  Glucose  BloodPressure  SkinThickness  Insulin   BMI  \\\n",
       "0            6      148             72             35        0  33.6   \n",
       "1            1       85             66             29        0  26.6   \n",
       "2            8      183             64              0        0  23.3   \n",
       "3            1       89             66             23       94  28.1   \n",
       "4            0      137             40             35      168  43.1   \n",
       "\n",
       "   DiabetesPedigreeFunction  Age  Outcome  \n",
       "0                     0.627   50        1  \n",
       "1                     0.351   31        0  \n",
       "2                     0.672   32        1  \n",
       "3                     0.167   21        0  \n",
       "4                     2.288   33        1  "
      ]
     },
     "execution_count": 2,
     "metadata": {},
     "output_type": "execute_result"
    }
   ],
   "source": [
    "dados = pd.read_csv(\"diabetes.csv\")\n",
    "dados.head()"
   ]
  },
  {
   "cell_type": "markdown",
   "metadata": {},
   "source": [
    "Vamos agora separar as colunas utilizadas para inferir o dado desejado, que é a existência de diabetes ou não, ou seja, vamos isolar a coluna Outcome das demais."
   ]
  },
  {
   "cell_type": "code",
   "execution_count": 3,
   "metadata": {},
   "outputs": [],
   "source": [
    "coluna_alvo = [\"Outcome\"]\n",
    "preditores = list(set(list(dados.columns))-set(coluna_alvo))"
   ]
  },
  {
   "cell_type": "code",
   "execution_count": 4,
   "metadata": {},
   "outputs": [
    {
     "data": {
      "text/html": [
       "<div>\n",
       "<style scoped>\n",
       "    .dataframe tbody tr th:only-of-type {\n",
       "        vertical-align: middle;\n",
       "    }\n",
       "\n",
       "    .dataframe tbody tr th {\n",
       "        vertical-align: top;\n",
       "    }\n",
       "\n",
       "    .dataframe thead th {\n",
       "        text-align: right;\n",
       "    }\n",
       "</style>\n",
       "<table border=\"1\" class=\"dataframe\">\n",
       "  <thead>\n",
       "    <tr style=\"text-align: right;\">\n",
       "      <th></th>\n",
       "      <th>Pregnancies</th>\n",
       "      <th>Age</th>\n",
       "      <th>BloodPressure</th>\n",
       "      <th>DiabetesPedigreeFunction</th>\n",
       "      <th>Insulin</th>\n",
       "      <th>SkinThickness</th>\n",
       "      <th>Glucose</th>\n",
       "      <th>BMI</th>\n",
       "    </tr>\n",
       "  </thead>\n",
       "  <tbody>\n",
       "    <tr>\n",
       "      <td>0</td>\n",
       "      <td>6</td>\n",
       "      <td>50</td>\n",
       "      <td>72</td>\n",
       "      <td>0.627</td>\n",
       "      <td>0</td>\n",
       "      <td>35</td>\n",
       "      <td>148</td>\n",
       "      <td>33.6</td>\n",
       "    </tr>\n",
       "    <tr>\n",
       "      <td>1</td>\n",
       "      <td>1</td>\n",
       "      <td>31</td>\n",
       "      <td>66</td>\n",
       "      <td>0.351</td>\n",
       "      <td>0</td>\n",
       "      <td>29</td>\n",
       "      <td>85</td>\n",
       "      <td>26.6</td>\n",
       "    </tr>\n",
       "    <tr>\n",
       "      <td>2</td>\n",
       "      <td>8</td>\n",
       "      <td>32</td>\n",
       "      <td>64</td>\n",
       "      <td>0.672</td>\n",
       "      <td>0</td>\n",
       "      <td>0</td>\n",
       "      <td>183</td>\n",
       "      <td>23.3</td>\n",
       "    </tr>\n",
       "    <tr>\n",
       "      <td>3</td>\n",
       "      <td>1</td>\n",
       "      <td>21</td>\n",
       "      <td>66</td>\n",
       "      <td>0.167</td>\n",
       "      <td>94</td>\n",
       "      <td>23</td>\n",
       "      <td>89</td>\n",
       "      <td>28.1</td>\n",
       "    </tr>\n",
       "    <tr>\n",
       "      <td>4</td>\n",
       "      <td>0</td>\n",
       "      <td>33</td>\n",
       "      <td>40</td>\n",
       "      <td>2.288</td>\n",
       "      <td>168</td>\n",
       "      <td>35</td>\n",
       "      <td>137</td>\n",
       "      <td>43.1</td>\n",
       "    </tr>\n",
       "    <tr>\n",
       "      <td>...</td>\n",
       "      <td>...</td>\n",
       "      <td>...</td>\n",
       "      <td>...</td>\n",
       "      <td>...</td>\n",
       "      <td>...</td>\n",
       "      <td>...</td>\n",
       "      <td>...</td>\n",
       "      <td>...</td>\n",
       "    </tr>\n",
       "    <tr>\n",
       "      <td>763</td>\n",
       "      <td>10</td>\n",
       "      <td>63</td>\n",
       "      <td>76</td>\n",
       "      <td>0.171</td>\n",
       "      <td>180</td>\n",
       "      <td>48</td>\n",
       "      <td>101</td>\n",
       "      <td>32.9</td>\n",
       "    </tr>\n",
       "    <tr>\n",
       "      <td>764</td>\n",
       "      <td>2</td>\n",
       "      <td>27</td>\n",
       "      <td>70</td>\n",
       "      <td>0.340</td>\n",
       "      <td>0</td>\n",
       "      <td>27</td>\n",
       "      <td>122</td>\n",
       "      <td>36.8</td>\n",
       "    </tr>\n",
       "    <tr>\n",
       "      <td>765</td>\n",
       "      <td>5</td>\n",
       "      <td>30</td>\n",
       "      <td>72</td>\n",
       "      <td>0.245</td>\n",
       "      <td>112</td>\n",
       "      <td>23</td>\n",
       "      <td>121</td>\n",
       "      <td>26.2</td>\n",
       "    </tr>\n",
       "    <tr>\n",
       "      <td>766</td>\n",
       "      <td>1</td>\n",
       "      <td>47</td>\n",
       "      <td>60</td>\n",
       "      <td>0.349</td>\n",
       "      <td>0</td>\n",
       "      <td>0</td>\n",
       "      <td>126</td>\n",
       "      <td>30.1</td>\n",
       "    </tr>\n",
       "    <tr>\n",
       "      <td>767</td>\n",
       "      <td>1</td>\n",
       "      <td>23</td>\n",
       "      <td>70</td>\n",
       "      <td>0.315</td>\n",
       "      <td>0</td>\n",
       "      <td>31</td>\n",
       "      <td>93</td>\n",
       "      <td>30.4</td>\n",
       "    </tr>\n",
       "  </tbody>\n",
       "</table>\n",
       "<p>768 rows × 8 columns</p>\n",
       "</div>"
      ],
      "text/plain": [
       "     Pregnancies  Age  BloodPressure  DiabetesPedigreeFunction  Insulin  \\\n",
       "0              6   50             72                     0.627        0   \n",
       "1              1   31             66                     0.351        0   \n",
       "2              8   32             64                     0.672        0   \n",
       "3              1   21             66                     0.167       94   \n",
       "4              0   33             40                     2.288      168   \n",
       "..           ...  ...            ...                       ...      ...   \n",
       "763           10   63             76                     0.171      180   \n",
       "764            2   27             70                     0.340        0   \n",
       "765            5   30             72                     0.245      112   \n",
       "766            1   47             60                     0.349        0   \n",
       "767            1   23             70                     0.315        0   \n",
       "\n",
       "     SkinThickness  Glucose   BMI  \n",
       "0               35      148  33.6  \n",
       "1               29       85  26.6  \n",
       "2                0      183  23.3  \n",
       "3               23       89  28.1  \n",
       "4               35      137  43.1  \n",
       "..             ...      ...   ...  \n",
       "763             48      101  32.9  \n",
       "764             27      122  36.8  \n",
       "765             23      121  26.2  \n",
       "766              0      126  30.1  \n",
       "767             31       93  30.4  \n",
       "\n",
       "[768 rows x 8 columns]"
      ]
     },
     "execution_count": 4,
     "metadata": {},
     "output_type": "execute_result"
    }
   ],
   "source": [
    "dados[preditores]"
   ]
  },
  {
   "cell_type": "code",
   "execution_count": 5,
   "metadata": {},
   "outputs": [
    {
     "data": {
      "text/html": [
       "<div>\n",
       "<style scoped>\n",
       "    .dataframe tbody tr th:only-of-type {\n",
       "        vertical-align: middle;\n",
       "    }\n",
       "\n",
       "    .dataframe tbody tr th {\n",
       "        vertical-align: top;\n",
       "    }\n",
       "\n",
       "    .dataframe thead th {\n",
       "        text-align: right;\n",
       "    }\n",
       "</style>\n",
       "<table border=\"1\" class=\"dataframe\">\n",
       "  <thead>\n",
       "    <tr style=\"text-align: right;\">\n",
       "      <th></th>\n",
       "      <th>Outcome</th>\n",
       "    </tr>\n",
       "  </thead>\n",
       "  <tbody>\n",
       "    <tr>\n",
       "      <td>0</td>\n",
       "      <td>1</td>\n",
       "    </tr>\n",
       "    <tr>\n",
       "      <td>1</td>\n",
       "      <td>0</td>\n",
       "    </tr>\n",
       "    <tr>\n",
       "      <td>2</td>\n",
       "      <td>1</td>\n",
       "    </tr>\n",
       "    <tr>\n",
       "      <td>3</td>\n",
       "      <td>0</td>\n",
       "    </tr>\n",
       "    <tr>\n",
       "      <td>4</td>\n",
       "      <td>1</td>\n",
       "    </tr>\n",
       "    <tr>\n",
       "      <td>...</td>\n",
       "      <td>...</td>\n",
       "    </tr>\n",
       "    <tr>\n",
       "      <td>763</td>\n",
       "      <td>0</td>\n",
       "    </tr>\n",
       "    <tr>\n",
       "      <td>764</td>\n",
       "      <td>0</td>\n",
       "    </tr>\n",
       "    <tr>\n",
       "      <td>765</td>\n",
       "      <td>0</td>\n",
       "    </tr>\n",
       "    <tr>\n",
       "      <td>766</td>\n",
       "      <td>1</td>\n",
       "    </tr>\n",
       "    <tr>\n",
       "      <td>767</td>\n",
       "      <td>0</td>\n",
       "    </tr>\n",
       "  </tbody>\n",
       "</table>\n",
       "<p>768 rows × 1 columns</p>\n",
       "</div>"
      ],
      "text/plain": [
       "     Outcome\n",
       "0          1\n",
       "1          0\n",
       "2          1\n",
       "3          0\n",
       "4          1\n",
       "..       ...\n",
       "763        0\n",
       "764        0\n",
       "765        0\n",
       "766        1\n",
       "767        0\n",
       "\n",
       "[768 rows x 1 columns]"
      ]
     },
     "execution_count": 5,
     "metadata": {},
     "output_type": "execute_result"
    }
   ],
   "source": [
    "dados[coluna_alvo]"
   ]
  },
  {
   "cell_type": "markdown",
   "metadata": {},
   "source": [
    "Vamos agora, alocar os dados do data frame em um vetor X, com os dados que serão utilizados para inferência, ou seja, os preditores, como foi visto anterior. Os dados da coluna_alvo, ou seja, Outcome, será alocada em um vetor Y. Para que posteriormente possamos separar os dados para treino e teste.\n"
   ]
  },
  {
   "cell_type": "code",
   "execution_count": 6,
   "metadata": {},
   "outputs": [],
   "source": [
    "X = dados[preditores].values\n",
    "Y = dados[coluna_alvo].values"
   ]
  },
  {
   "cell_type": "markdown",
   "metadata": {},
   "source": [
    "Iremos agora utilizar a função train_test_split, para separarmos os dados de X e Y para treino e teste do modelo da nossa RNA - MCP, com 30% dos dados para teste e o restante para o treino. Eles são repostos em outros 4 vetores, X_train, X_test, y_train e y_test."
   ]
  },
  {
   "cell_type": "code",
   "execution_count": 7,
   "metadata": {},
   "outputs": [],
   "source": [
    "X_train, X_test, y_train, y_test = train_test_split(X,Y, test_size=0.3, random_state=20)\n"
   ]
  },
  {
   "cell_type": "markdown",
   "metadata": {},
   "source": [
    "Agora que temos os dados devidamente separados, vamos criar o nosso modelo de RNA MCP, para podermos aplicar os dados para treinar e, por fim, testá-lo.\n",
    "A instância do modelo é criado através do método MLPClassifier, ele possui vários parametros e nesta aula iremos usar 4, ela possui diversos e, portanto, recomendo verificar a documentação da mesma no site do Scikit Learn. Sendo assim, irei brevemente explanar as que iremos utilizar.\n",
    "\n",
    "    Hidden_layer_sizes: Número de camadas escondidas e a quantidade de neurônio delas.\n",
    "\n",
    "    \n",
    "    Activation: Função de ativação dos Neurônios\n",
    "\n",
    "    \n",
    "    Solver: Especifica o algoritmo para otimização dos pesos dos neurônios\n",
    "\n",
    "    \n",
    "    Max_iter: Número máximo de iterações com os dados de treino para obter os valores dos pesos de cada neurônio\n"
   ]
  },
  {
   "cell_type": "code",
   "execution_count": 8,
   "metadata": {},
   "outputs": [],
   "source": [
    "#Cria a rede neural e atribui à modeloRN\n",
    "modeloRN = MLPClassifier(hidden_layer_sizes=(8,8,), activation='relu',solver='adam', max_iter=600)\n",
    "#hidden_layer_sizer exemplo:\n",
    "# hidden_layer_sizes=(4,) - 1 camada escondida com 4 neuronios\n",
    "# hidden_layer_sizes=(8,3,) - 2 camadas escondidas, uma com 8 neuronios e outra com 3"
   ]
  },
  {
   "cell_type": "markdown",
   "metadata": {},
   "source": [
    "Feito isto, temos uma RNA-MCP com 8 neurônios na camada de entrada, 8 neurônios em cada camada intermediária/escondida, sendo 2 camadas desse tipo, e, por fim, uma camada de saída com 1 neurônio (0 para não possui diabetes e 1 caso contrario)\n"
   ]
  },
  {
   "cell_type": "markdown",
   "metadata": {},
   "source": [
    "Aplicamos, agora, os dados previamente separados para o treino da nossa RNA-MCP, através do método fit(), que possui como parâmetro os valores de X e Y de treino.\n"
   ]
  },
  {
   "cell_type": "code",
   "execution_count": 9,
   "metadata": {},
   "outputs": [
    {
     "name": "stderr",
     "output_type": "stream",
     "text": [
      "C:\\Users\\PC\\Anaconda3\\lib\\site-packages\\sklearn\\neural_network\\multilayer_perceptron.py:921: DataConversionWarning: A column-vector y was passed when a 1d array was expected. Please change the shape of y to (n_samples, ), for example using ravel().\n",
      "  y = column_or_1d(y, warn=True)\n",
      "C:\\Users\\PC\\Anaconda3\\lib\\site-packages\\sklearn\\neural_network\\multilayer_perceptron.py:566: ConvergenceWarning: Stochastic Optimizer: Maximum iterations (600) reached and the optimization hasn't converged yet.\n",
      "  % self.max_iter, ConvergenceWarning)\n"
     ]
    },
    {
     "data": {
      "text/plain": [
       "MLPClassifier(activation='relu', alpha=0.0001, batch_size='auto', beta_1=0.9,\n",
       "              beta_2=0.999, early_stopping=False, epsilon=1e-08,\n",
       "              hidden_layer_sizes=(8, 8), learning_rate='constant',\n",
       "              learning_rate_init=0.001, max_iter=600, momentum=0.9,\n",
       "              n_iter_no_change=10, nesterovs_momentum=True, power_t=0.5,\n",
       "              random_state=None, shuffle=True, solver='adam', tol=0.0001,\n",
       "              validation_fraction=0.1, verbose=False, warm_start=False)"
      ]
     },
     "execution_count": 9,
     "metadata": {},
     "output_type": "execute_result"
    }
   ],
   "source": [
    "#Treinando a rede neural artifical com os dados de treino.\n",
    "modeloRN.fit(X_train,y_train)"
   ]
  },
  {
   "cell_type": "markdown",
   "metadata": {},
   "source": [
    "Com a nossa RNA-MCP devidamente treinada, vamos testá-la. Sendo assim, através do método predict(), que recebe como parâmetro os valores relacionados ao preditores, podemos obter um vetor com os resultados da inferência.\n"
   ]
  },
  {
   "cell_type": "code",
   "execution_count": 10,
   "metadata": {},
   "outputs": [],
   "source": [
    "#Realizando o teste e guardando os valores em y_predict\n",
    "y_predict = modeloRN.predict(X_test)"
   ]
  },
  {
   "cell_type": "markdown",
   "metadata": {},
   "source": [
    "Agora que possuímos nosso resultado, vamos novamente verificar a eficiência do modelo, verificando sua acurácia e depois, gerando a matriz de confusão e a tabela com os demais índices de eficiência (f1, recall, precision).\n"
   ]
  },
  {
   "cell_type": "code",
   "execution_count": 11,
   "metadata": {},
   "outputs": [
    {
     "name": "stdout",
     "output_type": "stream",
     "text": [
      "Accuracy: 0.6796536796536796\n"
     ]
    }
   ],
   "source": [
    "#Utilizando accuracy_score do módulo metrics para realizar o cálculo de acuracia\n",
    "print(\"Accuracy:\",metrics.accuracy_score(y_test, y_predict))"
   ]
  },
  {
   "cell_type": "code",
   "execution_count": 12,
   "metadata": {},
   "outputs": [
    {
     "name": "stdout",
     "output_type": "stream",
     "text": [
      "[[133  20]\n",
      " [ 54  24]]\n"
     ]
    }
   ],
   "source": [
    "#Gerando a matriz de confusão\n",
    "print(confusion_matrix(y_test,y_predict))"
   ]
  },
  {
   "cell_type": "code",
   "execution_count": 13,
   "metadata": {},
   "outputs": [
    {
     "name": "stdout",
     "output_type": "stream",
     "text": [
      "              precision    recall  f1-score   support\n",
      "\n",
      "           0       0.71      0.87      0.78       153\n",
      "           1       0.55      0.31      0.39        78\n",
      "\n",
      "    accuracy                           0.68       231\n",
      "   macro avg       0.63      0.59      0.59       231\n",
      "weighted avg       0.66      0.68      0.65       231\n",
      "\n"
     ]
    }
   ],
   "source": [
    "#Gerando a tabela com os demais indices de eficiencia\n",
    "print(classification_report(y_test,y_predict))"
   ]
  },
  {
   "cell_type": "markdown",
   "metadata": {},
   "source": [
    "REFERENCIAS\n",
    "\n",
    "GARDNER, Matt W.; DORLING, S. R. Artificial neural networks (the multilayer perceptron)—a review of applications in the atmospheric sciences. Atmospheric environment, v. 32, n. 14-15, p. 2627-2636, 1998."
   ]
  }
 ],
 "metadata": {
  "kernelspec": {
   "display_name": "Python 3",
   "language": "python",
   "name": "python3"
  },
  "language_info": {
   "codemirror_mode": {
    "name": "ipython",
    "version": 3
   },
   "file_extension": ".py",
   "mimetype": "text/x-python",
   "name": "python",
   "nbconvert_exporter": "python",
   "pygments_lexer": "ipython3",
   "version": "3.7.4"
  }
 },
 "nbformat": 4,
 "nbformat_minor": 2
}
