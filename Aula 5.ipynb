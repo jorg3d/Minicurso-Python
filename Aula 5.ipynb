{
 "cells": [
  {
   "cell_type": "markdown",
   "metadata": {},
   "source": [
    "Introdução\n",
    "\n",
    "Nesta aula iremos gerar e treinar um modelo baseado no algoritmo de Clusterização K-Means para rotulação de dados, sendo os dados um conjunto de notícias da BBC. Contudo, antes de prosseguirmos direto para o código, iremos, mais uma vez, aprofundar-nos acerca dos conceitos que serão vistos ao longo da aula, através de uma breve fundamentação teórica.\n"
   ]
  },
  {
   "cell_type": "markdown",
   "metadata": {},
   "source": [
    "Fundamentação Teórica\n",
    "\n",
    "O problema de clusterização se baseia no agrupamento de objetos de uma base de dados, em que objetos mais similares sejam agrupados em um mesmo cluster e os menos similares sejam agrupados em clusters distintos. É um problema muito estudado e aplicado na mineração de dados e se subdivide em basicamente dois problemas, que são quando sabemos o K número de clusters previamente e quando não o sabemos, sendo este último realizado de forma automática.(OCHI et al., 2004)\n",
    "\n",
    "Usaremos o Mini Batch K-means, que é uma variação do algoritmos K-means. O K-means é um algoritmo iterativo e rápido, muito utilizado em diversas aplicações. Ele inicia com um centro de cluster de forma aleatório e a cada passo e ele recalcula este ponto de forma a minimizar o error de clusterização.(LIKAS et al., 2003)\n"
   ]
  },
  {
   "cell_type": "markdown",
   "metadata": {},
   "source": [
    "Implementação do Código\n",
    "\n",
    "Antes de começar, precisamos saber quais dados serão usados nesta aula.Iremos nos utilizar de um conjunto de notícias da BBC em inglês, categorizado em 5 tópicos, que são Tecnologia, Esportes, Política, Entretenimento e Negócios. Elas estarão todas juntas em um único arquivo csv (noticias_bbc.csv), e serão colocadas em um data frame para realizarmos a clusterização.\n"
   ]
  },
  {
   "cell_type": "markdown",
   "metadata": {},
   "source": [
    "Importando bibliotecas necessárias"
   ]
  },
  {
   "cell_type": "code",
   "execution_count": 163,
   "metadata": {},
   "outputs": [],
   "source": [
    "import pandas as pd #Para manipular data frames\n",
    "import numpy as np #Para manipular dados\n",
    "from sklearn.cluster import MiniBatchKMeans #Biblioteca com o classificador\n",
    "from sklearn.feature_extraction.text import TfidfVectorizer # TF-IDF + BoW\n",
    "from sklearn.decomposition import PCA #Ferramenta para diminuir a dim. de vetor\n",
    "import matplotlib.pyplot as plt #Para gerar gráficos"
   ]
  },
  {
   "cell_type": "code",
   "execution_count": 164,
   "metadata": {},
   "outputs": [],
   "source": [
    "#Gerando data frame através do arquivo de noticias\n",
    "dados = pd.read_csv(\"noticias_bbc.csv\")"
   ]
  },
  {
   "cell_type": "markdown",
   "metadata": {},
   "source": [
    "Bag-of words e Term Frequency - Inverse Document Frequency (TF-IDF)\n",
    "\n",
    "\n",
    "Com os dados devidamente alocados no nosso dataframe, vamos agora aplicar uma técnica de pré-processamento de textos necessária para que possamos aplicá-los à um algoritmo classificador, essa técnica é a Bag of Words (BoW).\n",
    "\n",
    "A bag-of-words é um modelo que estrutura dados não estruturados, geralmente se tornando uma matriz esparsa de valores em que a quantidade de uma palavra é um elemento, sendo muito utilizada na mineração de textos graças a sua simplicidade e ótimo desempenho.(MATSUBARA et al., 2003)\n",
    "\n",
    "Dessa forma, será formado um vetor em que cada elemento é uma única palavra distinta, sendo este vetor com uma dimensão N, em que N é a quantidade de palavras distintas encontradas em todo o corpo textual de todas as notícias. A partir disso, cada notícia irá se tornar um vetor de tamanho N, em que cada elemento é quantidade daquela palavra na notícia.\n",
    "\n",
    "Aliado a isso, iremos aplicar o Term-Frequency - Inverse Document Frequency (TF-IDF), que é uma técnica de peso dos termos bastante utilizada na classificação de documentos, onde palavras com poucas ocorrências demonstram ter um significado maior do que as palavras com muitas ocorrências nos textos.\n",
    "\n",
    "Para isso, utilizaremos uma função disponibilizada pelo Scikit Learn, a TfidfVectorizer. Através dela é possível gerar tanto a BoW como o TF-IDF em simples passos.\n"
   ]
  },
  {
   "cell_type": "code",
   "execution_count": 165,
   "metadata": {},
   "outputs": [],
   "source": [
    "#Cria uma instancia do TfidfVectorizer, removendo stop words em inglês\n",
    "#stop words são palavras não relevantes em significado para o texto\n",
    "vectorizer = TfidfVectorizer(stop_words=\"english\")\n",
    "#Molda o modelo com a base de textos usada\n",
    "vectorizer.fit(dados[\"texto\"].values)\n",
    "#Transforma os textos do dataframe,estruturando-os em uma BoW e aplica TF-IDF\n",
    "#armazenando-os em features\n",
    "features = vectorizer.transform(dados[\"texto\"].values)"
   ]
  },
  {
   "cell_type": "markdown",
   "metadata": {},
   "source": [
    "Com isto feito, temos nossos dados devidamente tratados e prontos para aplicarmos em um algoritmo de categorização."
   ]
  },
  {
   "cell_type": "markdown",
   "metadata": {},
   "source": [
    "Criando e treinando o modelo classificador\n",
    "\n",
    "Vamos agora criar uma instância do nosso modelo de Clusterização, que é o MiniBatchKMeans."
   ]
  },
  {
   "cell_type": "code",
   "execution_count": 166,
   "metadata": {},
   "outputs": [],
   "source": [
    "#Cria um modelo classificador através de MiniBatchKMeans\n",
    "#n_clusters :  define o numero de clusters do modelo\n",
    "random_state=129\n",
    "classificador = MiniBatchKMeans(n_clusters=5,random_state=random_state)"
   ]
  },
  {
   "cell_type": "markdown",
   "metadata": {},
   "source": [
    "Treinando o modelo Classificador"
   ]
  },
  {
   "cell_type": "code",
   "execution_count": 167,
   "metadata": {},
   "outputs": [
    {
     "data": {
      "text/plain": [
       "MiniBatchKMeans(batch_size=100, compute_labels=True, init='k-means++',\n",
       "                init_size=None, max_iter=100, max_no_improvement=10,\n",
       "                n_clusters=5, n_init=3, random_state=129,\n",
       "                reassignment_ratio=0.01, tol=0.0, verbose=0)"
      ]
     },
     "execution_count": 167,
     "metadata": {},
     "output_type": "execute_result"
    }
   ],
   "source": [
    "#Treina o modelo\n",
    "classificador.fit(features)"
   ]
  },
  {
   "cell_type": "markdown",
   "metadata": {},
   "source": [
    "A seguir iremos predizer o mesmo conjunto de dados que usamos para treinar o nosso modelo."
   ]
  },
  {
   "cell_type": "code",
   "execution_count": 168,
   "metadata": {},
   "outputs": [
    {
     "data": {
      "text/plain": [
       "array([3, 2, 1, ..., 2, 2, 4])"
      ]
     },
     "execution_count": 168,
     "metadata": {},
     "output_type": "execute_result"
    }
   ],
   "source": [
    "#Realiza um teste no modelo, utilizando os dados presentes em features\n",
    "classificador.predict(features)"
   ]
  },
  {
   "cell_type": "markdown",
   "metadata": {},
   "source": [
    "Com isso, temos os nossos dados categorizados através do nosso modelo de Clusterização. Para vermos o resultado, podemos acessar labels_."
   ]
  },
  {
   "cell_type": "code",
   "execution_count": 169,
   "metadata": {},
   "outputs": [
    {
     "data": {
      "text/plain": [
       "array([3, 2, 1, ..., 2, 2, 4])"
      ]
     },
     "execution_count": 169,
     "metadata": {},
     "output_type": "execute_result"
    }
   ],
   "source": [
    "#Retorna o vetor com o resultado do teste aplicado no modelo\n",
    "classificador.labels_"
   ]
  },
  {
   "cell_type": "markdown",
   "metadata": {},
   "source": [
    "Visualização dos Resultados\n",
    "\n",
    "Podemos gerar um gráfico para visualizarmos melhor os nossos resultado. Visto que nossas notícias viraram vetores com dimensões muito maiores que 2, iremos utilizar o Principal component analysis (PCA), que será responsável por essa redução de dimensões tanto das notícias como dos vetores que são considerados o centro de cada cluster."
   ]
  },
  {
   "cell_type": "code",
   "execution_count": 170,
   "metadata": {},
   "outputs": [],
   "source": [
    "#Cria uma instância de PCA, sendo n_components o numero de componentes\n",
    "#ou seja, o numero de dimensoes, no nosso caso duas.\n",
    "pca = PCA(n_components=2, random_state=random_state)\n",
    "\n",
    "#Armazenamos os novos vetores de dimensoes reduzidas através da transformação\n",
    "#pelo PCA\n",
    "features_reduzidos = pca.fit_transform(features.toarray())\n",
    "\n",
    "#Centro dos Clusters reduzidos à duas dimensões\n",
    "CC_reduzidos = pca.transform(classificador.cluster_centers_)"
   ]
  },
  {
   "cell_type": "markdown",
   "metadata": {},
   "source": [
    "Com os dados devidamente transformados/reduzidos para duas dimensões, podemos gerar um gráfico através da biblioteca matplotlib para visualizá-los. No gráfico abaixo, cada ponto representa uma notícia, sendo cada cor uma categoria. Além disso, cada X representa o centro de um cluster.\n"
   ]
  },
  {
   "cell_type": "code",
   "execution_count": 171,
   "metadata": {
    "scrolled": true
   },
   "outputs": [
    {
     "data": {
      "text/plain": [
       "<matplotlib.collections.PathCollection at 0x1cc81407748>"
      ]
     },
     "execution_count": 171,
     "metadata": {},
     "output_type": "execute_result"
    },
    {
     "data": {
      "image/png": "[encoded data removed]",
      "text/plain": [
       "<Figure size 432x288 with 1 Axes>"
      ]
     },
     "metadata": {
      "needs_background": "light"
     },
     "output_type": "display_data"
    }
   ],
   "source": [
    "#Plota vários pontos, representando as noticias\n",
    "plt.scatter(features_reduzidos[:,0], features_reduzidos[:,1], c=classificador.predict(features))\n",
    "#Plota o centro de cada cluster através de um X\n",
    "plt.scatter(CC_reduzidos[:,0], CC_reduzidos[:,1], marker='x', s=150, c='b')"
   ]
  },
  {
   "cell_type": "markdown",
   "metadata": {},
   "source": [
    "Avaliação dos resultados\n",
    "\n",
    "Com o homogeneity_score podemos comparar os resultados preditos com suas verdadeiras classificações, gerando um valor entre 0 a 1, sendo 1 o valor em que os dados foram preditos corretamente em sua totalidade.\n"
   ]
  },
  {
   "cell_type": "code",
   "execution_count": 172,
   "metadata": {},
   "outputs": [
    {
     "data": {
      "text/plain": [
       "0.5750388852174921"
      ]
     },
     "execution_count": 172,
     "metadata": {},
     "output_type": "execute_result"
    }
   ],
   "source": [
    "from sklearn.metrics import homogeneity_score\n",
    "homogeneity_score(dados[\"categoria\"],classificador.predict(features))"
   ]
  },
  {
   "cell_type": "markdown",
   "metadata": {},
   "source": [
    "Referências\n",
    "\n",
    "MATSUBARA, Edson Takashi; MARTINS, Claudia Aparecida; MONARD, Maria Carolina. Pretext: Uma ferramenta para pré-processamento de textos utilizando a abordagem bag-of-words. Techinical Report, v. 209, n. 4, 2003.\n",
    "\n",
    "OCHI, Luiz Satoru; DIAS, Carlos Rodrigo; SOARES, Stênio S. Furtado. Clusterização em mineração de dados. Instituto de Computação-Universidade Federal Fluminense-Niterói, v. 1, p. 46, 2004.\n",
    "\n",
    "LIKAS, Aristidis; VLASSIS, Nikos; VERBEEK, Jakob J. The global k-means clustering algorithm. Pattern recognition, v. 36, n. 2, p. 451-461, 2003.\n"
   ]
  }
 ],
 "metadata": {
  "kernelspec": {
   "display_name": "Python 3",
   "language": "python",
   "name": "python3"
  },
  "language_info": {
   "codemirror_mode": {
    "name": "ipython",
    "version": 3
   },
   "file_extension": ".py",
   "mimetype": "text/x-python",
   "name": "python",
   "nbconvert_exporter": "python",
   "pygments_lexer": "ipython3",
   "version": "3.7.4"
  }
 },
 "nbformat": 4,
 "nbformat_minor": 2
}
