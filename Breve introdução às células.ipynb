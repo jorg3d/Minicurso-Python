{
 "cells": [
  {
   "cell_type": "markdown",
   "metadata": {},
   "source": [
    "Minicurso de Python (Esta é uma célula do tipo Markdown, ou seja, de texto comum)"
   ]
  },
  {
   "cell_type": "code",
   "execution_count": 1,
   "metadata": {},
   "outputs": [
    {
     "name": "stdout",
     "output_type": "stream",
     "text": [
      "Minicurso de Python parte 2\n"
     ]
    }
   ],
   "source": [
    "#Já esta célula é uma destinada para o código, ela será interpretada no kernel\n",
    "print(\"Minicurso de Python parte 2\")\n",
    "y=2"
   ]
  },
  {
   "cell_type": "markdown",
   "metadata": {},
   "source": [
    "As células, apesar de separadas, operam o código como um todo, dessa forma é possível deixar o código bem delimitado por célula, facilitando a documentação do mesmo."
   ]
  },
  {
   "cell_type": "code",
   "execution_count": 2,
   "metadata": {},
   "outputs": [
    {
     "name": "stdout",
     "output_type": "stream",
     "text": [
      "2\n"
     ]
    }
   ],
   "source": [
    "#Sendo assim, posso, por exemplo, imprimir o valor de y nesta célula\n",
    "print(y)"
   ]
  }
 ],
 "metadata": {
  "kernelspec": {
   "display_name": "Python 3",
   "language": "python",
   "name": "python3"
  },
  "language_info": {
   "codemirror_mode": {
    "name": "ipython",
    "version": 3
   },
   "file_extension": ".py",
   "mimetype": "text/x-python",
   "name": "python",
   "nbconvert_exporter": "python",
   "pygments_lexer": "ipython3",
   "version": "3.7.4"
  }
 },
 "nbformat": 4,
 "nbformat_minor": 2
}
